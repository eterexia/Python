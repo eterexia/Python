{
 "cells": [
  {
   "cell_type": "code",
   "execution_count": 19,
   "id": "8cd1e39c",
   "metadata": {},
   "outputs": [],
   "source": [
    "# importing required libraries\n",
    "import numpy as np\n",
    "import matplotlib.pyplot as plt\n",
    "import pandas as pd\n",
    "import seaborn as sns\n",
    "from mpl_toolkits.mplot3d import Axes3D\n",
    "from sklearn import decomposition\n",
    "from sklearn import preprocessing"
   ]
  },
  {
   "cell_type": "code",
   "execution_count": 20,
   "id": "53baab68",
   "metadata": {
    "scrolled": true
   },
   "outputs": [],
   "source": [
    "# importing or loading the dataset\n",
    "data = pd.read_csv('D:\\Downloads\\pca.csv')"
   ]
  },
  {
   "cell_type": "code",
   "execution_count": 6,
   "id": "2f6e4f3f",
   "metadata": {},
   "outputs": [
    {
     "name": "stdout",
     "output_type": "stream",
     "text": [
      "   Interviewee Interviewer  Degree Requirements  \\\n",
      "0         Park         Woo                 10.0   \n",
      "1         Park          Go                 10.0   \n",
      "2         Park         Man                  9.0   \n",
      "3         Park          Ru                 10.0   \n",
      "4         Park          Oh                 10.0   \n",
      "5         Park       Presi                 10.0   \n",
      "6         Park       Myung                 10.0   \n",
      "7         Jang         Woo                 10.0   \n",
      "8         Jang          Go                 10.0   \n",
      "9         Jang         Man                  9.0   \n",
      "10        Jang          Ru                 10.0   \n",
      "11        Jang          Oh                 10.0   \n",
      "12        Jang       Presi                 10.0   \n",
      "13        Jang       Myung                 10.0   \n",
      "14        Choi         Woo                  9.0   \n",
      "15        Choi          Go                 10.0   \n",
      "16        Choi         Man                  9.0   \n",
      "17        Choi          Ru                 10.0   \n",
      "18        Choi          Oh                 10.0   \n",
      "19        Choi       Presi                 10.0   \n",
      "20        Choi       Myung                  NaN   \n",
      "\n",
      "    Teaching Experience & Competencies  Academic & Research Capacity  \\\n",
      "0                                  8.0                           7.0   \n",
      "1                                 10.0                           9.0   \n",
      "2                                  9.0                           8.0   \n",
      "3                                  9.0                           9.0   \n",
      "4                                  8.0                           8.0   \n",
      "5                                  7.0                           8.0   \n",
      "6                                 10.0                           9.0   \n",
      "7                                 10.0                           9.0   \n",
      "8                                 10.0                          10.0   \n",
      "9                                  9.0                           9.0   \n",
      "10                                 9.0                           9.0   \n",
      "11                                10.0                           9.0   \n",
      "12                                 9.0                          10.0   \n",
      "13                                10.0                          10.0   \n",
      "14                                 9.0                           9.0   \n",
      "15                                10.0                          10.0   \n",
      "16                                 9.0                           9.0   \n",
      "17                                 9.0                           9.0   \n",
      "18                                10.0                          10.0   \n",
      "19                                 9.0                           9.0   \n",
      "20                                 NaN                           NaN   \n",
      "\n",
      "    Church or Pastoral Ministry Experience  \\\n",
      "0                                      7.0   \n",
      "1                                     10.0   \n",
      "2                                      8.0   \n",
      "3                                      7.0   \n",
      "4                                      9.0   \n",
      "5                                      7.0   \n",
      "6                                     10.0   \n",
      "7                                      9.0   \n",
      "8                                      9.0   \n",
      "9                                      8.0   \n",
      "10                                     7.0   \n",
      "11                                     8.0   \n",
      "12                                    10.0   \n",
      "13                                    10.0   \n",
      "14                                     9.0   \n",
      "15                                    10.0   \n",
      "16                                     9.0   \n",
      "17                                     9.0   \n",
      "18                                     9.0   \n",
      "19                                    10.0   \n",
      "20                                     NaN   \n",
      "\n",
      "    Professional Experience & Development  Administration Capacity  \\\n",
      "0                                     8.0                      7.0   \n",
      "1                                     9.0                      9.0   \n",
      "2                                     8.0                      8.0   \n",
      "3                                     7.0                      7.0   \n",
      "4                                     8.0                      8.0   \n",
      "5                                     5.0                      6.0   \n",
      "6                                     9.0                      9.0   \n",
      "7                                     9.0                      8.0   \n",
      "8                                     9.0                     10.0   \n",
      "9                                     9.0                      9.0   \n",
      "10                                    8.0                      7.0   \n",
      "11                                    9.0                      9.0   \n",
      "12                                    7.0                      8.0   \n",
      "13                                    9.0                     10.0   \n",
      "14                                    9.0                      9.0   \n",
      "15                                   10.0                     10.0   \n",
      "16                                   10.0                      9.0   \n",
      "17                                    9.0                      8.0   \n",
      "18                                   10.0                      9.0   \n",
      "19                                    9.0                      9.0   \n",
      "20                                    NaN                      NaN   \n",
      "\n",
      "    Professional Licenses  Program Development Initiatives & Capacity  \\\n",
      "0                     8.0                                         7.0   \n",
      "1                    10.0                                         8.0   \n",
      "2                     8.0                                         9.0   \n",
      "3                     8.0                                         7.0   \n",
      "4                     8.0                                         8.0   \n",
      "5                     5.0                                         6.0   \n",
      "6                    10.0                                        10.0   \n",
      "7                     9.0                                         9.0   \n",
      "8                    10.0                                         8.0   \n",
      "9                     8.0                                         9.0   \n",
      "10                    8.0                                         6.0   \n",
      "11                    8.0                                         8.0   \n",
      "12                    9.0                                         8.0   \n",
      "13                   10.0                                        10.0   \n",
      "14                    9.0                                         9.0   \n",
      "15                    9.0                                         9.0   \n",
      "16                    9.0                                         9.0   \n",
      "17                    8.0                                         8.0   \n",
      "18                    9.0                                        10.0   \n",
      "19                    9.0                                         9.0   \n",
      "20                    NaN                                         NaN   \n",
      "\n",
      "    Christian Faith & Biblical Worldview  Character & Attitude  \n",
      "0                                   10.0                   9.0  \n",
      "1                                    9.0                   8.0  \n",
      "2                                   10.0                  10.0  \n",
      "3                                   10.0                   8.0  \n",
      "4                                    9.0                   9.0  \n",
      "5                                    8.0                   9.0  \n",
      "6                                    9.0                   9.0  \n",
      "7                                   10.0                   8.0  \n",
      "8                                    9.0                   8.0  \n",
      "9                                   10.0                   9.0  \n",
      "10                                  10.0                   6.0  \n",
      "11                                   9.0                   9.0  \n",
      "12                                   8.0                   8.0  \n",
      "13                                  10.0                  10.0  \n",
      "14                                  10.0                   9.0  \n",
      "15                                  10.0                   9.0  \n",
      "16                                  10.0                  10.0  \n",
      "17                                  10.0                   8.0  \n",
      "18                                   9.0                   9.0  \n",
      "19                                  10.0                   9.0  \n",
      "20                                   NaN                   NaN  \n"
     ]
    }
   ],
   "source": [
    "print (data)"
   ]
  },
  {
   "cell_type": "code",
   "execution_count": 21,
   "id": "43394851",
   "metadata": {},
   "outputs": [
    {
     "name": "stdout",
     "output_type": "stream",
     "text": [
      "Interviewee       0\n",
      "Interviewer       0\n",
      "Degree            1\n",
      "Teaching          1\n",
      "Academic          1\n",
      "Church            1\n",
      "Professional      1\n",
      "Administration    1\n",
      "Licenses          1\n",
      "Program           1\n",
      "Christian         1\n",
      "Attitude          1\n",
      "dtype: int64\n"
     ]
    }
   ],
   "source": [
    "print(data.isnull().sum())"
   ]
  },
  {
   "cell_type": "code",
   "execution_count": 22,
   "id": "5debfb64",
   "metadata": {},
   "outputs": [],
   "source": [
    "data = data.dropna()"
   ]
  },
  {
   "cell_type": "code",
   "execution_count": 23,
   "id": "ec2ceb51",
   "metadata": {},
   "outputs": [
    {
     "name": "stdout",
     "output_type": "stream",
     "text": [
      "<class 'pandas.core.frame.DataFrame'>\n",
      "Int64Index: 20 entries, 0 to 19\n",
      "Data columns (total 12 columns):\n",
      " #   Column          Non-Null Count  Dtype  \n",
      "---  ------          --------------  -----  \n",
      " 0   Interviewee     20 non-null     object \n",
      " 1   Interviewer     20 non-null     object \n",
      " 2   Degree          20 non-null     float64\n",
      " 3   Teaching        20 non-null     float64\n",
      " 4   Academic        20 non-null     float64\n",
      " 5   Church          20 non-null     float64\n",
      " 6   Professional    20 non-null     float64\n",
      " 7   Administration  20 non-null     float64\n",
      " 8   Licenses        20 non-null     float64\n",
      " 9   Program         20 non-null     float64\n",
      " 10  Christian       20 non-null     float64\n",
      " 11  Attitude        20 non-null     float64\n",
      "dtypes: float64(10), object(2)\n",
      "memory usage: 2.0+ KB\n"
     ]
    }
   ],
   "source": [
    "data.info()"
   ]
  },
  {
   "cell_type": "code",
   "execution_count": 26,
   "id": "411f621e",
   "metadata": {},
   "outputs": [
    {
     "ename": "ValueError",
     "evalue": "could not convert string to float: 'Park'",
     "output_type": "error",
     "traceback": [
      "\u001b[1;31m---------------------------------------------------------------------------\u001b[0m",
      "\u001b[1;31mValueError\u001b[0m                                Traceback (most recent call last)",
      "Input \u001b[1;32mIn [26]\u001b[0m, in \u001b[0;36m<cell line: 8>\u001b[1;34m()\u001b[0m\n\u001b[0;32m      6\u001b[0m y \u001b[38;5;241m=\u001b[39m data\u001b[38;5;241m.\u001b[39mloc[:,[\u001b[38;5;124m'\u001b[39m\u001b[38;5;124mInterviewee\u001b[39m\u001b[38;5;124m'\u001b[39m]]\u001b[38;5;241m.\u001b[39mvalues\n\u001b[0;32m      7\u001b[0m \u001b[38;5;66;03m# Standardizing the features\u001b[39;00m\n\u001b[1;32m----> 8\u001b[0m x \u001b[38;5;241m=\u001b[39m \u001b[43mStandardScaler\u001b[49m\u001b[43m(\u001b[49m\u001b[43m)\u001b[49m\u001b[38;5;241;43m.\u001b[39;49m\u001b[43mfit_transform\u001b[49m\u001b[43m(\u001b[49m\u001b[43mx\u001b[49m\u001b[43m)\u001b[49m\n",
      "File \u001b[1;32m~\\anaconda3\\lib\\site-packages\\sklearn\\base.py:867\u001b[0m, in \u001b[0;36mTransformerMixin.fit_transform\u001b[1;34m(self, X, y, **fit_params)\u001b[0m\n\u001b[0;32m    863\u001b[0m \u001b[38;5;66;03m# non-optimized default implementation; override when a better\u001b[39;00m\n\u001b[0;32m    864\u001b[0m \u001b[38;5;66;03m# method is possible for a given clustering algorithm\u001b[39;00m\n\u001b[0;32m    865\u001b[0m \u001b[38;5;28;01mif\u001b[39;00m y \u001b[38;5;129;01mis\u001b[39;00m \u001b[38;5;28;01mNone\u001b[39;00m:\n\u001b[0;32m    866\u001b[0m     \u001b[38;5;66;03m# fit method of arity 1 (unsupervised transformation)\u001b[39;00m\n\u001b[1;32m--> 867\u001b[0m     \u001b[38;5;28;01mreturn\u001b[39;00m \u001b[38;5;28mself\u001b[39m\u001b[38;5;241m.\u001b[39mfit(X, \u001b[38;5;241m*\u001b[39m\u001b[38;5;241m*\u001b[39mfit_params)\u001b[38;5;241m.\u001b[39mtransform(X)\n\u001b[0;32m    868\u001b[0m \u001b[38;5;28;01melse\u001b[39;00m:\n\u001b[0;32m    869\u001b[0m     \u001b[38;5;66;03m# fit method of arity 2 (supervised transformation)\u001b[39;00m\n\u001b[0;32m    870\u001b[0m     \u001b[38;5;28;01mreturn\u001b[39;00m \u001b[38;5;28mself\u001b[39m\u001b[38;5;241m.\u001b[39mfit(X, y, \u001b[38;5;241m*\u001b[39m\u001b[38;5;241m*\u001b[39mfit_params)\u001b[38;5;241m.\u001b[39mtransform(X)\n",
      "File \u001b[1;32m~\\anaconda3\\lib\\site-packages\\sklearn\\preprocessing\\_data.py:809\u001b[0m, in \u001b[0;36mStandardScaler.fit\u001b[1;34m(self, X, y, sample_weight)\u001b[0m\n\u001b[0;32m    807\u001b[0m \u001b[38;5;66;03m# Reset internal state before fitting\u001b[39;00m\n\u001b[0;32m    808\u001b[0m \u001b[38;5;28mself\u001b[39m\u001b[38;5;241m.\u001b[39m_reset()\n\u001b[1;32m--> 809\u001b[0m \u001b[38;5;28;01mreturn\u001b[39;00m \u001b[38;5;28;43mself\u001b[39;49m\u001b[38;5;241;43m.\u001b[39;49m\u001b[43mpartial_fit\u001b[49m\u001b[43m(\u001b[49m\u001b[43mX\u001b[49m\u001b[43m,\u001b[49m\u001b[43m \u001b[49m\u001b[43my\u001b[49m\u001b[43m,\u001b[49m\u001b[43m \u001b[49m\u001b[43msample_weight\u001b[49m\u001b[43m)\u001b[49m\n",
      "File \u001b[1;32m~\\anaconda3\\lib\\site-packages\\sklearn\\preprocessing\\_data.py:844\u001b[0m, in \u001b[0;36mStandardScaler.partial_fit\u001b[1;34m(self, X, y, sample_weight)\u001b[0m\n\u001b[0;32m    812\u001b[0m \u001b[38;5;124;03m\"\"\"Online computation of mean and std on X for later scaling.\u001b[39;00m\n\u001b[0;32m    813\u001b[0m \n\u001b[0;32m    814\u001b[0m \u001b[38;5;124;03mAll of X is processed as a single batch. This is intended for cases\u001b[39;00m\n\u001b[1;32m   (...)\u001b[0m\n\u001b[0;32m    841\u001b[0m \u001b[38;5;124;03m    Fitted scaler.\u001b[39;00m\n\u001b[0;32m    842\u001b[0m \u001b[38;5;124;03m\"\"\"\u001b[39;00m\n\u001b[0;32m    843\u001b[0m first_call \u001b[38;5;241m=\u001b[39m \u001b[38;5;129;01mnot\u001b[39;00m \u001b[38;5;28mhasattr\u001b[39m(\u001b[38;5;28mself\u001b[39m, \u001b[38;5;124m\"\u001b[39m\u001b[38;5;124mn_samples_seen_\u001b[39m\u001b[38;5;124m\"\u001b[39m)\n\u001b[1;32m--> 844\u001b[0m X \u001b[38;5;241m=\u001b[39m \u001b[38;5;28;43mself\u001b[39;49m\u001b[38;5;241;43m.\u001b[39;49m\u001b[43m_validate_data\u001b[49m\u001b[43m(\u001b[49m\n\u001b[0;32m    845\u001b[0m \u001b[43m    \u001b[49m\u001b[43mX\u001b[49m\u001b[43m,\u001b[49m\n\u001b[0;32m    846\u001b[0m \u001b[43m    \u001b[49m\u001b[43maccept_sparse\u001b[49m\u001b[38;5;241;43m=\u001b[39;49m\u001b[43m(\u001b[49m\u001b[38;5;124;43m\"\u001b[39;49m\u001b[38;5;124;43mcsr\u001b[39;49m\u001b[38;5;124;43m\"\u001b[39;49m\u001b[43m,\u001b[49m\u001b[43m \u001b[49m\u001b[38;5;124;43m\"\u001b[39;49m\u001b[38;5;124;43mcsc\u001b[39;49m\u001b[38;5;124;43m\"\u001b[39;49m\u001b[43m)\u001b[49m\u001b[43m,\u001b[49m\n\u001b[0;32m    847\u001b[0m \u001b[43m    \u001b[49m\u001b[43mdtype\u001b[49m\u001b[38;5;241;43m=\u001b[39;49m\u001b[43mFLOAT_DTYPES\u001b[49m\u001b[43m,\u001b[49m\n\u001b[0;32m    848\u001b[0m \u001b[43m    \u001b[49m\u001b[43mforce_all_finite\u001b[49m\u001b[38;5;241;43m=\u001b[39;49m\u001b[38;5;124;43m\"\u001b[39;49m\u001b[38;5;124;43mallow-nan\u001b[39;49m\u001b[38;5;124;43m\"\u001b[39;49m\u001b[43m,\u001b[49m\n\u001b[0;32m    849\u001b[0m \u001b[43m    \u001b[49m\u001b[43mreset\u001b[49m\u001b[38;5;241;43m=\u001b[39;49m\u001b[43mfirst_call\u001b[49m\u001b[43m,\u001b[49m\n\u001b[0;32m    850\u001b[0m \u001b[43m\u001b[49m\u001b[43m)\u001b[49m\n\u001b[0;32m    851\u001b[0m n_features \u001b[38;5;241m=\u001b[39m X\u001b[38;5;241m.\u001b[39mshape[\u001b[38;5;241m1\u001b[39m]\n\u001b[0;32m    853\u001b[0m \u001b[38;5;28;01mif\u001b[39;00m sample_weight \u001b[38;5;129;01mis\u001b[39;00m \u001b[38;5;129;01mnot\u001b[39;00m \u001b[38;5;28;01mNone\u001b[39;00m:\n",
      "File \u001b[1;32m~\\anaconda3\\lib\\site-packages\\sklearn\\base.py:577\u001b[0m, in \u001b[0;36mBaseEstimator._validate_data\u001b[1;34m(self, X, y, reset, validate_separately, **check_params)\u001b[0m\n\u001b[0;32m    575\u001b[0m     \u001b[38;5;28;01mraise\u001b[39;00m \u001b[38;5;167;01mValueError\u001b[39;00m(\u001b[38;5;124m\"\u001b[39m\u001b[38;5;124mValidation should be done on X, y or both.\u001b[39m\u001b[38;5;124m\"\u001b[39m)\n\u001b[0;32m    576\u001b[0m \u001b[38;5;28;01melif\u001b[39;00m \u001b[38;5;129;01mnot\u001b[39;00m no_val_X \u001b[38;5;129;01mand\u001b[39;00m no_val_y:\n\u001b[1;32m--> 577\u001b[0m     X \u001b[38;5;241m=\u001b[39m check_array(X, input_name\u001b[38;5;241m=\u001b[39m\u001b[38;5;124m\"\u001b[39m\u001b[38;5;124mX\u001b[39m\u001b[38;5;124m\"\u001b[39m, \u001b[38;5;241m*\u001b[39m\u001b[38;5;241m*\u001b[39mcheck_params)\n\u001b[0;32m    578\u001b[0m     out \u001b[38;5;241m=\u001b[39m X\n\u001b[0;32m    579\u001b[0m \u001b[38;5;28;01melif\u001b[39;00m no_val_X \u001b[38;5;129;01mand\u001b[39;00m \u001b[38;5;129;01mnot\u001b[39;00m no_val_y:\n",
      "File \u001b[1;32m~\\anaconda3\\lib\\site-packages\\sklearn\\utils\\validation.py:856\u001b[0m, in \u001b[0;36mcheck_array\u001b[1;34m(array, accept_sparse, accept_large_sparse, dtype, order, copy, force_all_finite, ensure_2d, allow_nd, ensure_min_samples, ensure_min_features, estimator, input_name)\u001b[0m\n\u001b[0;32m    854\u001b[0m         array \u001b[38;5;241m=\u001b[39m array\u001b[38;5;241m.\u001b[39mastype(dtype, casting\u001b[38;5;241m=\u001b[39m\u001b[38;5;124m\"\u001b[39m\u001b[38;5;124munsafe\u001b[39m\u001b[38;5;124m\"\u001b[39m, copy\u001b[38;5;241m=\u001b[39m\u001b[38;5;28;01mFalse\u001b[39;00m)\n\u001b[0;32m    855\u001b[0m     \u001b[38;5;28;01melse\u001b[39;00m:\n\u001b[1;32m--> 856\u001b[0m         array \u001b[38;5;241m=\u001b[39m \u001b[43mnp\u001b[49m\u001b[38;5;241;43m.\u001b[39;49m\u001b[43masarray\u001b[49m\u001b[43m(\u001b[49m\u001b[43marray\u001b[49m\u001b[43m,\u001b[49m\u001b[43m \u001b[49m\u001b[43morder\u001b[49m\u001b[38;5;241;43m=\u001b[39;49m\u001b[43morder\u001b[49m\u001b[43m,\u001b[49m\u001b[43m \u001b[49m\u001b[43mdtype\u001b[49m\u001b[38;5;241;43m=\u001b[39;49m\u001b[43mdtype\u001b[49m\u001b[43m)\u001b[49m\n\u001b[0;32m    857\u001b[0m \u001b[38;5;28;01mexcept\u001b[39;00m ComplexWarning \u001b[38;5;28;01mas\u001b[39;00m complex_warning:\n\u001b[0;32m    858\u001b[0m     \u001b[38;5;28;01mraise\u001b[39;00m \u001b[38;5;167;01mValueError\u001b[39;00m(\n\u001b[0;32m    859\u001b[0m         \u001b[38;5;124m\"\u001b[39m\u001b[38;5;124mComplex data not supported\u001b[39m\u001b[38;5;130;01m\\n\u001b[39;00m\u001b[38;5;132;01m{}\u001b[39;00m\u001b[38;5;130;01m\\n\u001b[39;00m\u001b[38;5;124m\"\u001b[39m\u001b[38;5;241m.\u001b[39mformat(array)\n\u001b[0;32m    860\u001b[0m     ) \u001b[38;5;28;01mfrom\u001b[39;00m \u001b[38;5;21;01mcomplex_warning\u001b[39;00m\n",
      "\u001b[1;31mValueError\u001b[0m: could not convert string to float: 'Park'"
     ]
    }
   ],
   "source": [
    "from sklearn.preprocessing import StandardScaler\n",
    "features = ['Interviewee', 'Interviewer', 'Degree', 'Teaching', 'Academic', 'Church', 'Professional', 'Administration', 'Licenses', 'Program', 'Christian', 'Attitude']\n",
    "# Separating out the features\n",
    "x = data.loc[:, features].values\n",
    "# Separating out the target\n",
    "y = data.loc[:,['Interviewee']].values\n",
    "# Standardizing the features\n",
    "x = StandardScaler().fit_transform(x)"
   ]
  },
  {
   "cell_type": "code",
   "execution_count": 2,
   "id": "141360f9",
   "metadata": {},
   "outputs": [
    {
     "name": "stderr",
     "output_type": "stream",
     "text": [
      "'jt' is not recognized as an internal or external command,\n",
      "operable program or batch file.\n"
     ]
    }
   ],
   "source": [
    "!jt -l"
   ]
  },
  {
   "cell_type": "code",
   "execution_count": null,
   "id": "19929401",
   "metadata": {},
   "outputs": [],
   "source": []
  }
 ],
 "metadata": {
  "kernelspec": {
   "display_name": "Python 3 (ipykernel)",
   "language": "python",
   "name": "python3"
  },
  "language_info": {
   "codemirror_mode": {
    "name": "ipython",
    "version": 3
   },
   "file_extension": ".py",
   "mimetype": "text/x-python",
   "name": "python",
   "nbconvert_exporter": "python",
   "pygments_lexer": "ipython3",
   "version": "3.9.13"
  }
 },
 "nbformat": 4,
 "nbformat_minor": 5
}
